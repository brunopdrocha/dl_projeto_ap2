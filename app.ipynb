{
 "cells": [
  {
   "cell_type": "markdown",
   "id": "edd23e69",
   "metadata": {},
   "source": [
    "# Etiquetamento Autônomo de Perguntas do StackOverflow com Deep Learning\n",
    "\n",
    "- Bruno Pilão\n",
    "- Maria Mello\n",
    "- Larissa Nobrega\n",
    "- Fernanda Moyses \n",
    "\n",
    "\n",
    "O objetivo do trabalho é desenvolver um modelo Deep Learning para o etiquetamento autônomo (*multi-label classification*) de perguntas do StackOverflow.\n",
    "\n",
    "CONJUNTO DE DADOS\n",
    "\n",
    "A base de dados a ser utilizada é a StackLite, disponível em https://github.com/dgrtwo/StackLite.\n",
    "\n",
    "A StackLite é uma versão simplificada e pré-processada de uma parte dos dados do Stack Overflow, contendo perguntas e suas tags associadas.\n",
    "\n",
    "Embora o repositório possa conter outros arquivos, o foco será nos dados que permitem mapear perguntas (corpo e/ou título) para suas tags.\n",
    "\n",
    "Obs.: Uma única pergunta pode ter múltiplas tags, o que a torna um problema de classificação multilabel. Pense em uma forma de priorizar uma das tags para simplificar o problema.\n",
    "\n"
   ]
  },
  {
   "cell_type": "code",
   "execution_count": 67,
   "id": "007f45b3",
   "metadata": {},
   "outputs": [],
   "source": [
    "# Importando Bibliotecas\n",
    "\n",
    "import pandas as pd\n",
    "import numpy as np\n",
    "import re\n",
    "from sklearn.preprocessing import MultiLabelBinarizer\n",
    "from sklearn.model_selection import train_test_split\n",
    "from sklearn.feature_extraction.text import TfidfVectorizer\n",
    "import tensorflow as tf\n",
    "import os\n",
    "import seaborn as sns\n",
    "import matplotlib.pyplot as plt\n",
    "import time"
   ]
  },
  {
   "cell_type": "markdown",
   "id": "7601f077",
   "metadata": {},
   "source": [
    "## Análise breve dataset \n"
   ]
  },
  {
   "cell_type": "markdown",
   "id": "5a982740",
   "metadata": {},
   "source": [
    "### Dataset Auxiliar \n",
    "\n",
    "Este dataset constitui um dicionário que mapeia cada questão gerada no Stack Overflow às suas respectivas categorias temáticas. O conjunto de dados auxiliar será utilizado para realizar uma análise prévia com o objetivo de avaliar e classificar os tipos de respostas associadas a cada pergunta."
   ]
  },
  {
   "cell_type": "code",
   "execution_count": 62,
   "id": "b0c5eb2a",
   "metadata": {},
   "outputs": [
    {
     "data": {
      "text/html": [
       "<div>\n",
       "<style scoped>\n",
       "    .dataframe tbody tr th:only-of-type {\n",
       "        vertical-align: middle;\n",
       "    }\n",
       "\n",
       "    .dataframe tbody tr th {\n",
       "        vertical-align: top;\n",
       "    }\n",
       "\n",
       "    .dataframe thead th {\n",
       "        text-align: right;\n",
       "    }\n",
       "</style>\n",
       "<table border=\"1\" class=\"dataframe\">\n",
       "  <thead>\n",
       "    <tr style=\"text-align: right;\">\n",
       "      <th></th>\n",
       "      <th>Id</th>\n",
       "      <th>Tag</th>\n",
       "    </tr>\n",
       "  </thead>\n",
       "  <tbody>\n",
       "    <tr>\n",
       "      <th>0</th>\n",
       "      <td>1</td>\n",
       "      <td>data</td>\n",
       "    </tr>\n",
       "    <tr>\n",
       "      <th>1</th>\n",
       "      <td>4</td>\n",
       "      <td>c#</td>\n",
       "    </tr>\n",
       "    <tr>\n",
       "      <th>2</th>\n",
       "      <td>4</td>\n",
       "      <td>winforms</td>\n",
       "    </tr>\n",
       "    <tr>\n",
       "      <th>3</th>\n",
       "      <td>4</td>\n",
       "      <td>type-conversion</td>\n",
       "    </tr>\n",
       "    <tr>\n",
       "      <th>4</th>\n",
       "      <td>4</td>\n",
       "      <td>decimal</td>\n",
       "    </tr>\n",
       "  </tbody>\n",
       "</table>\n",
       "</div>"
      ],
      "text/plain": [
       "   Id              Tag\n",
       "0   1             data\n",
       "1   4               c#\n",
       "2   4         winforms\n",
       "3   4  type-conversion\n",
       "4   4          decimal"
      ]
     },
     "execution_count": 62,
     "metadata": {},
     "output_type": "execute_result"
    }
   ],
   "source": [
    "#Importação dataset tags\n",
    "df_tags = pd.read_csv('data\\question_tags.csv\\question_tags.csv.gz',compression='gzip')\n",
    "df_tags.head()"
   ]
  },
  {
   "cell_type": "code",
   "execution_count": 63,
   "id": "414cc4f1",
   "metadata": {},
   "outputs": [
    {
     "data": {
      "text/plain": [
       "52224835"
      ]
     },
     "execution_count": 63,
     "metadata": {},
     "output_type": "execute_result"
    }
   ],
   "source": [
    "#Validandop quantidade de itens na datable\n",
    "len(df_tags)"
   ]
  },
  {
   "cell_type": "code",
   "execution_count": 64,
   "id": "41d0613d",
   "metadata": {},
   "outputs": [
    {
     "name": "stdout",
     "output_type": "stream",
     "text": [
      "Quantidade de itens por ID\n",
      "1 ['data']\n",
      "2 []\n",
      "3 []\n",
      "4 ['c#' 'winforms' 'type-conversion' 'decimal' 'opacity']\n",
      "5 []\n",
      "6 ['html' 'css' 'css3' 'internet-explorer-7']\n",
      "7 []\n",
      "8 ['c#' 'code-generation' 'j#' 'visualj#']\n",
      "9 ['c#' '.net' 'datetime']\n",
      "10 []\n"
     ]
    }
   ],
   "source": [
    "#Validando tipos de tag\n",
    "print(\"Quantidade de itens por ID\")\n",
    "for i in range(10):\n",
    "    print(i+1,df_tags[df_tags['Id'] == i+1]['Tag'].values)"
   ]
  },
  {
   "cell_type": "markdown",
   "id": "532f6b90",
   "metadata": {},
   "source": [
    "Observamos que as tags não possuem um ordem sequencial e podem conter um ou multiplos valores dentro de um ID."
   ]
  },
  {
   "cell_type": "code",
   "execution_count": 65,
   "id": "e594a5af",
   "metadata": {},
   "outputs": [
    {
     "name": "stdout",
     "output_type": "stream",
     "text": [
      "✅ Grouped criado: 17,763,486 IDs únicos\n",
      "✅ Backup CSV: stackoverflow_grouped_tags.csv\n"
     ]
    }
   ],
   "source": [
    "\n",
    "# GroupBy simples: ID → lista de tags\n",
    "grouped_mini = df_tags.groupby('Id')['Tag'].apply(list).reset_index()\n",
    "\n",
    "print(f\"✅ Grouped criado: {len(grouped_mini):,} IDs únicos\")\n",
    "\n",
    "# Salvar em CSV ()\n",
    "grouped_mini.to_csv('stackoverflow_grouped_tags.csv', index=False)\n",
    "print(\"✅ Backup CSV: stackoverflow_grouped_tags.csv\")"
   ]
  },
  {
   "cell_type": "code",
   "execution_count": 66,
   "id": "711ab5dd",
   "metadata": {},
   "outputs": [],
   "source": [
    "# Comprimir CSV (reduz ~80%)\n",
    "df = pd.read_csv('stackoverflow_grouped_tags.csv')\n",
    "df.to_csv('stackoverflow_grouped_tags.csv.gz', compression='gzip', index=False)"
   ]
  },
  {
   "cell_type": "markdown",
   "id": "f0082c8b",
   "metadata": {},
   "source": [
    "Com isso avaliamos que este dataset serve como um \"Dicionário\" para identificar o tipo de pergunta que o usuario realizou no stackoverflow, sendo que uma tg pode contem um ou múltiplos assuntos envolvidos.\n"
   ]
  },
  {
   "cell_type": "markdown",
   "id": "1c16c0ba",
   "metadata": {},
   "source": [
    "## Dataset Principal\n",
    "\n",
    "O dataset principal consiste em perguntas técnicas geradas por usuários da plataforma Stack Overflow. Este conjunto de dados contém questões formuladas por desenvolvedores e profissionais de tecnologia que buscam soluções para problemas específicos em suas áreas de atuação."
   ]
  },
  {
   "cell_type": "code",
   "execution_count": null,
   "id": "1fb59843",
   "metadata": {},
   "outputs": [],
   "source": [
    "#Importação dataset questions\n",
    "df_questions = pd.read_csv('data\\question_tags.csv\\questions.csv.gz',compression='gzip')\n",
    "df_questions.head()"
   ]
  }
 ],
 "metadata": {
  "kernelspec": {
   "display_name": ".venv",
   "language": "python",
   "name": "python3"
  },
  "language_info": {
   "codemirror_mode": {
    "name": "ipython",
    "version": 3
   },
   "file_extension": ".py",
   "mimetype": "text/x-python",
   "name": "python",
   "nbconvert_exporter": "python",
   "pygments_lexer": "ipython3",
   "version": "3.11.9"
  }
 },
 "nbformat": 4,
 "nbformat_minor": 5
}
