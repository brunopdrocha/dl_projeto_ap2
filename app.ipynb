{
 "cells": [
  {
   "cell_type": "markdown",
   "id": "edd23e69",
   "metadata": {},
   "source": [
    "# Etiquetamento Autônomo de Perguntas do StackOverflow com Deep Learning\n",
    "\n",
    "- Bruno Pilão\n",
    "- Maria Mello\n",
    "- Larissa Nobrega\n",
    "- Fernanda Moyses \n",
    "\n",
    "\n",
    "O objetivo do trabalho é desenvolver um modelo Deep Learning para o etiquetamento autônomo (*multi-label classification*) de perguntas do StackOverflow.\n",
    "\n",
    "CONJUNTO DE DADOS\n",
    "\n",
    "A base de dados a ser utilizada é a StackLite, disponível em https://github.com/dgrtwo/StackLite.\n",
    "\n",
    "A StackLite é uma versão simplificada e pré-processada de uma parte dos dados do Stack Overflow, contendo perguntas e suas tags associadas.\n",
    "\n",
    "Embora o repositório possa conter outros arquivos, o foco será nos dados que permitem mapear perguntas (corpo e/ou título) para suas tags.\n",
    "\n",
    "Obs.: Uma única pergunta pode ter múltiplas tags, o que a torna um problema de classificação multilabel. Pense em uma forma de priorizar uma das tags para simplificar o problema.\n",
    "\n"
   ]
  },
  {
   "cell_type": "code",
   "execution_count": 91,
   "id": "007f45b3",
   "metadata": {},
   "outputs": [],
   "source": [
    "# Importando Bibliotecas\n",
    "import pandas as pd\n",
    "import numpy as np\n",
    "import tensorflow as tf\n",
    "from transformers import (\n",
    "    AutoTokenizer, \n",
    "    TFAutoModel,\n",
    "    TFDistilBertForSequenceClassification\n",
    ")\n",
    "from sklearn.model_selection import train_test_split\n",
    "from sklearn.preprocessing import MultiLabelBinarizer\n",
    "from sklearn.metrics import classification_report\n",
    "import ast"
   ]
  },
  {
   "cell_type": "markdown",
   "id": "7601f077",
   "metadata": {},
   "source": [
    "## Análise breve dataset \n"
   ]
  },
  {
   "cell_type": "markdown",
   "id": "5a982740",
   "metadata": {},
   "source": [
    "### Dataset Auxiliar \n",
    "\n",
    "Este dataset constitui um dicionário que mapeia cada questão gerada no Stack Overflow às suas respectivas categorias temáticas. O conjunto de dados auxiliar será utilizado para realizar uma análise prévia com o objetivo de avaliar e classificar os tipos de respostas associadas a cada pergunta."
   ]
  },
  {
   "cell_type": "code",
   "execution_count": 92,
   "id": "b0c5eb2a",
   "metadata": {},
   "outputs": [
    {
     "data": {
      "text/html": [
       "<div>\n",
       "<style scoped>\n",
       "    .dataframe tbody tr th:only-of-type {\n",
       "        vertical-align: middle;\n",
       "    }\n",
       "\n",
       "    .dataframe tbody tr th {\n",
       "        vertical-align: top;\n",
       "    }\n",
       "\n",
       "    .dataframe thead th {\n",
       "        text-align: right;\n",
       "    }\n",
       "</style>\n",
       "<table border=\"1\" class=\"dataframe\">\n",
       "  <thead>\n",
       "    <tr style=\"text-align: right;\">\n",
       "      <th></th>\n",
       "      <th>Id</th>\n",
       "      <th>Tag</th>\n",
       "    </tr>\n",
       "  </thead>\n",
       "  <tbody>\n",
       "    <tr>\n",
       "      <th>0</th>\n",
       "      <td>1</td>\n",
       "      <td>data</td>\n",
       "    </tr>\n",
       "    <tr>\n",
       "      <th>1</th>\n",
       "      <td>4</td>\n",
       "      <td>c#</td>\n",
       "    </tr>\n",
       "    <tr>\n",
       "      <th>2</th>\n",
       "      <td>4</td>\n",
       "      <td>winforms</td>\n",
       "    </tr>\n",
       "    <tr>\n",
       "      <th>3</th>\n",
       "      <td>4</td>\n",
       "      <td>type-conversion</td>\n",
       "    </tr>\n",
       "    <tr>\n",
       "      <th>4</th>\n",
       "      <td>4</td>\n",
       "      <td>decimal</td>\n",
       "    </tr>\n",
       "  </tbody>\n",
       "</table>\n",
       "</div>"
      ],
      "text/plain": [
       "   Id              Tag\n",
       "0   1             data\n",
       "1   4               c#\n",
       "2   4         winforms\n",
       "3   4  type-conversion\n",
       "4   4          decimal"
      ]
     },
     "execution_count": 92,
     "metadata": {},
     "output_type": "execute_result"
    }
   ],
   "source": [
    "#Importação dataset tags\n",
    "df_tags = pd.read_csv('data\\question_tags.csv\\question_tags.csv.gz',compression='gzip')\n",
    "df_tags.head()"
   ]
  },
  {
   "cell_type": "code",
   "execution_count": 93,
   "id": "414cc4f1",
   "metadata": {},
   "outputs": [
    {
     "data": {
      "text/plain": [
       "52224835"
      ]
     },
     "execution_count": 93,
     "metadata": {},
     "output_type": "execute_result"
    }
   ],
   "source": [
    "#Validandop quantidade de itens na datable\n",
    "len(df_tags)"
   ]
  },
  {
   "cell_type": "code",
   "execution_count": 94,
   "id": "41d0613d",
   "metadata": {},
   "outputs": [
    {
     "name": "stdout",
     "output_type": "stream",
     "text": [
      "Quantidade de itens por ID\n",
      "1 ['data']\n",
      "2 []\n",
      "3 []\n",
      "4 ['c#' 'winforms' 'type-conversion' 'decimal' 'opacity']\n",
      "5 []\n",
      "6 ['html' 'css' 'css3' 'internet-explorer-7']\n",
      "7 []\n",
      "8 ['c#' 'code-generation' 'j#' 'visualj#']\n",
      "9 ['c#' '.net' 'datetime']\n",
      "10 []\n"
     ]
    }
   ],
   "source": [
    "#Validando tipos de tag\n",
    "print(\"Quantidade de itens por ID\")\n",
    "for i in range(10):\n",
    "    print(i+1,df_tags[df_tags['Id'] == i+1]['Tag'].values)"
   ]
  },
  {
   "cell_type": "markdown",
   "id": "532f6b90",
   "metadata": {},
   "source": [
    "Observamos que as tags não possuem um ordem sequencial e podem conter um ou multiplos valores dentro de um ID."
   ]
  },
  {
   "cell_type": "code",
   "execution_count": 95,
   "id": "5a57099f",
   "metadata": {},
   "outputs": [
    {
     "name": "stdout",
     "output_type": "stream",
     "text": [
      "✅ Grouped criado: 17,763,486 IDs únicos\n"
     ]
    }
   ],
   "source": [
    "# GroupBy simples: ID → lista de tags\n",
    "grouped_mini = df_tags.groupby('Id')['Tag'].apply(list).reset_index()\n",
    "\n",
    "print(f\"✅ Grouped criado: {len(grouped_mini):,} IDs únicos\")"
   ]
  },
  {
   "cell_type": "code",
   "execution_count": null,
   "id": "e594a5af",
   "metadata": {},
   "outputs": [
    {
     "name": "stdout",
     "output_type": "stream",
     "text": [
      "✅ Grouped criado: 17,763,486 IDs únicos\n",
      "✅ Backup CSV: stackoverflow_grouped_tags.csv\n"
     ]
    }
   ],
   "source": [
    "\n",
    "# Salvar em CSV ()\n",
    "grouped_mini.to_csv('stackoverflow_grouped_tags.csv', index=False)\n",
    "print(\"✅ Backup CSV: stackoverflow_grouped_tags.csv\")"
   ]
  },
  {
   "cell_type": "code",
   "execution_count": 69,
   "id": "711ab5dd",
   "metadata": {},
   "outputs": [],
   "source": [
    "# Comprimir CSV (reduz ~80%)\n",
    "df = pd.read_csv('stackoverflow_grouped_tags.csv')\n",
    "df.to_csv('stackoverflow_grouped_tags.csv.gz', compression='gzip', index=False)"
   ]
  },
  {
   "cell_type": "markdown",
   "id": "f0082c8b",
   "metadata": {},
   "source": [
    "Com isso avaliamos que este dataset serve como um \"Dicionário\" para identificar o tipo de pergunta que o usuario realizou no stackoverflow, sendo que uma tg pode contem um ou múltiplos assuntos envolvidos.\n"
   ]
  },
  {
   "cell_type": "markdown",
   "id": "1c16c0ba",
   "metadata": {},
   "source": [
    "### Dataset Principal\n",
    "\n",
    "O dataset principal consiste em perguntas técnicas geradas por usuários da plataforma Stack Overflow. Este conjunto de dados contém questões formuladas por desenvolvedores e profissionais de tecnologia que buscam soluções para problemas específicos em suas áreas de atuação."
   ]
  },
  {
   "cell_type": "code",
   "execution_count": 96,
   "id": "1fb59843",
   "metadata": {},
   "outputs": [
    {
     "data": {
      "text/html": [
       "<div>\n",
       "<style scoped>\n",
       "    .dataframe tbody tr th:only-of-type {\n",
       "        vertical-align: middle;\n",
       "    }\n",
       "\n",
       "    .dataframe tbody tr th {\n",
       "        vertical-align: top;\n",
       "    }\n",
       "\n",
       "    .dataframe thead th {\n",
       "        text-align: right;\n",
       "    }\n",
       "</style>\n",
       "<table border=\"1\" class=\"dataframe\">\n",
       "  <thead>\n",
       "    <tr style=\"text-align: right;\">\n",
       "      <th></th>\n",
       "      <th>Id</th>\n",
       "      <th>CreationDate</th>\n",
       "      <th>ClosedDate</th>\n",
       "      <th>DeletionDate</th>\n",
       "      <th>Score</th>\n",
       "      <th>OwnerUserId</th>\n",
       "      <th>AnswerCount</th>\n",
       "    </tr>\n",
       "  </thead>\n",
       "  <tbody>\n",
       "    <tr>\n",
       "      <th>0</th>\n",
       "      <td>1</td>\n",
       "      <td>2008-07-31T21:26:37Z</td>\n",
       "      <td>NaN</td>\n",
       "      <td>2011-03-28T00:53:47Z</td>\n",
       "      <td>1</td>\n",
       "      <td>NaN</td>\n",
       "      <td>0.0</td>\n",
       "    </tr>\n",
       "    <tr>\n",
       "      <th>1</th>\n",
       "      <td>4</td>\n",
       "      <td>2008-07-31T21:42:52Z</td>\n",
       "      <td>NaN</td>\n",
       "      <td>NaN</td>\n",
       "      <td>472</td>\n",
       "      <td>8.0</td>\n",
       "      <td>13.0</td>\n",
       "    </tr>\n",
       "    <tr>\n",
       "      <th>2</th>\n",
       "      <td>6</td>\n",
       "      <td>2008-07-31T22:08:08Z</td>\n",
       "      <td>NaN</td>\n",
       "      <td>NaN</td>\n",
       "      <td>210</td>\n",
       "      <td>9.0</td>\n",
       "      <td>5.0</td>\n",
       "    </tr>\n",
       "    <tr>\n",
       "      <th>3</th>\n",
       "      <td>8</td>\n",
       "      <td>2008-07-31T23:33:19Z</td>\n",
       "      <td>2013-06-03T04:00:25Z</td>\n",
       "      <td>2015-02-11T08:26:40Z</td>\n",
       "      <td>42</td>\n",
       "      <td>NaN</td>\n",
       "      <td>8.0</td>\n",
       "    </tr>\n",
       "    <tr>\n",
       "      <th>4</th>\n",
       "      <td>9</td>\n",
       "      <td>2008-07-31T23:40:59Z</td>\n",
       "      <td>NaN</td>\n",
       "      <td>NaN</td>\n",
       "      <td>1452</td>\n",
       "      <td>1.0</td>\n",
       "      <td>58.0</td>\n",
       "    </tr>\n",
       "  </tbody>\n",
       "</table>\n",
       "</div>"
      ],
      "text/plain": [
       "   Id          CreationDate            ClosedDate          DeletionDate  \\\n",
       "0   1  2008-07-31T21:26:37Z                   NaN  2011-03-28T00:53:47Z   \n",
       "1   4  2008-07-31T21:42:52Z                   NaN                   NaN   \n",
       "2   6  2008-07-31T22:08:08Z                   NaN                   NaN   \n",
       "3   8  2008-07-31T23:33:19Z  2013-06-03T04:00:25Z  2015-02-11T08:26:40Z   \n",
       "4   9  2008-07-31T23:40:59Z                   NaN                   NaN   \n",
       "\n",
       "   Score  OwnerUserId  AnswerCount  \n",
       "0      1          NaN          0.0  \n",
       "1    472          8.0         13.0  \n",
       "2    210          9.0          5.0  \n",
       "3     42          NaN          8.0  \n",
       "4   1452          1.0         58.0  "
      ]
     },
     "execution_count": 96,
     "metadata": {},
     "output_type": "execute_result"
    }
   ],
   "source": [
    "#Importação dataset questions\n",
    "df_questions = pd.read_csv('data\\question_tags.csv\\questions.csv.gz',compression='gzip')\n",
    "df_questions.head()"
   ]
  },
  {
   "cell_type": "code",
   "execution_count": 97,
   "id": "0d78a03b",
   "metadata": {},
   "outputs": [
    {
     "data": {
      "text/plain": [
       "17763486"
      ]
     },
     "execution_count": 97,
     "metadata": {},
     "output_type": "execute_result"
    }
   ],
   "source": [
    "# Quantiade de itens df_qustions\n",
    "\n",
    "len(df_questions)"
   ]
  },
  {
   "cell_type": "code",
   "execution_count": null,
   "id": "09dfcc1d",
   "metadata": {},
   "outputs": [
    {
     "name": "stdout",
     "output_type": "stream",
     "text": [
      "<class 'pandas.core.frame.DataFrame'>\n",
      "RangeIndex: 17763486 entries, 0 to 17763485\n",
      "Data columns (total 7 columns):\n",
      " #   Column        Dtype  \n",
      "---  ------        -----  \n",
      " 0   Id            int64  \n",
      " 1   CreationDate  object \n",
      " 2   ClosedDate    object \n",
      " 3   DeletionDate  object \n",
      " 4   Score         int64  \n",
      " 5   OwnerUserId   float64\n",
      " 6   AnswerCount   float64\n",
      "dtypes: float64(2), int64(2), object(3)\n",
      "memory usage: 948.7+ MB\n"
     ]
    }
   ],
   "source": [
    "# Validar tipos de variáveis ao nosso dataset\n",
    "df_questions.info()"
   ]
  },
  {
   "cell_type": "markdown",
   "id": "83a50c9f",
   "metadata": {},
   "source": [
    "## Merge Datasets\n",
    "\n",
    "Vamos agrupar nosso dataset para melhor perfomace no treinamento do nosso modelo para predição de tag do stack overflow"
   ]
  },
  {
   "cell_type": "code",
   "execution_count": 99,
   "id": "307a3144",
   "metadata": {},
   "outputs": [
    {
     "name": "stdout",
     "output_type": "stream",
     "text": [
      "Dataset final: (17763486, 8)\n"
     ]
    },
    {
     "data": {
      "text/html": [
       "<div>\n",
       "<style scoped>\n",
       "    .dataframe tbody tr th:only-of-type {\n",
       "        vertical-align: middle;\n",
       "    }\n",
       "\n",
       "    .dataframe tbody tr th {\n",
       "        vertical-align: top;\n",
       "    }\n",
       "\n",
       "    .dataframe thead th {\n",
       "        text-align: right;\n",
       "    }\n",
       "</style>\n",
       "<table border=\"1\" class=\"dataframe\">\n",
       "  <thead>\n",
       "    <tr style=\"text-align: right;\">\n",
       "      <th></th>\n",
       "      <th>Id</th>\n",
       "      <th>CreationDate</th>\n",
       "      <th>ClosedDate</th>\n",
       "      <th>DeletionDate</th>\n",
       "      <th>Score</th>\n",
       "      <th>OwnerUserId</th>\n",
       "      <th>AnswerCount</th>\n",
       "      <th>Tag</th>\n",
       "    </tr>\n",
       "  </thead>\n",
       "  <tbody>\n",
       "    <tr>\n",
       "      <th>0</th>\n",
       "      <td>1</td>\n",
       "      <td>2008-07-31T21:26:37Z</td>\n",
       "      <td>NaN</td>\n",
       "      <td>2011-03-28T00:53:47Z</td>\n",
       "      <td>1</td>\n",
       "      <td>NaN</td>\n",
       "      <td>0.0</td>\n",
       "      <td>[data]</td>\n",
       "    </tr>\n",
       "    <tr>\n",
       "      <th>1</th>\n",
       "      <td>4</td>\n",
       "      <td>2008-07-31T21:42:52Z</td>\n",
       "      <td>NaN</td>\n",
       "      <td>NaN</td>\n",
       "      <td>472</td>\n",
       "      <td>8.0</td>\n",
       "      <td>13.0</td>\n",
       "      <td>[c#, winforms, type-conversion, decimal, opacity]</td>\n",
       "    </tr>\n",
       "    <tr>\n",
       "      <th>2</th>\n",
       "      <td>6</td>\n",
       "      <td>2008-07-31T22:08:08Z</td>\n",
       "      <td>NaN</td>\n",
       "      <td>NaN</td>\n",
       "      <td>210</td>\n",
       "      <td>9.0</td>\n",
       "      <td>5.0</td>\n",
       "      <td>[html, css, css3, internet-explorer-7]</td>\n",
       "    </tr>\n",
       "    <tr>\n",
       "      <th>3</th>\n",
       "      <td>8</td>\n",
       "      <td>2008-07-31T23:33:19Z</td>\n",
       "      <td>2013-06-03T04:00:25Z</td>\n",
       "      <td>2015-02-11T08:26:40Z</td>\n",
       "      <td>42</td>\n",
       "      <td>NaN</td>\n",
       "      <td>8.0</td>\n",
       "      <td>[c#, code-generation, j#, visualj#]</td>\n",
       "    </tr>\n",
       "    <tr>\n",
       "      <th>4</th>\n",
       "      <td>9</td>\n",
       "      <td>2008-07-31T23:40:59Z</td>\n",
       "      <td>NaN</td>\n",
       "      <td>NaN</td>\n",
       "      <td>1452</td>\n",
       "      <td>1.0</td>\n",
       "      <td>58.0</td>\n",
       "      <td>[c#, .net, datetime]</td>\n",
       "    </tr>\n",
       "  </tbody>\n",
       "</table>\n",
       "</div>"
      ],
      "text/plain": [
       "   Id          CreationDate            ClosedDate          DeletionDate  \\\n",
       "0   1  2008-07-31T21:26:37Z                   NaN  2011-03-28T00:53:47Z   \n",
       "1   4  2008-07-31T21:42:52Z                   NaN                   NaN   \n",
       "2   6  2008-07-31T22:08:08Z                   NaN                   NaN   \n",
       "3   8  2008-07-31T23:33:19Z  2013-06-03T04:00:25Z  2015-02-11T08:26:40Z   \n",
       "4   9  2008-07-31T23:40:59Z                   NaN                   NaN   \n",
       "\n",
       "   Score  OwnerUserId  AnswerCount  \\\n",
       "0      1          NaN          0.0   \n",
       "1    472          8.0         13.0   \n",
       "2    210          9.0          5.0   \n",
       "3     42          NaN          8.0   \n",
       "4   1452          1.0         58.0   \n",
       "\n",
       "                                                 Tag  \n",
       "0                                             [data]  \n",
       "1  [c#, winforms, type-conversion, decimal, opacity]  \n",
       "2             [html, css, css3, internet-explorer-7]  \n",
       "3                [c#, code-generation, j#, visualj#]  \n",
       "4                               [c#, .net, datetime]  "
      ]
     },
     "execution_count": 99,
     "metadata": {},
     "output_type": "execute_result"
    }
   ],
   "source": [
    "# Vamos realizar um merge de nosso dataset \n",
    "df = df_questions.merge(grouped_mini,on='Id',how='inner')\n",
    "\n",
    "# Verificar resultado\n",
    "print(f\"Dataset final: {df.shape}\")\n",
    "df.head()"
   ]
  },
  {
   "cell_type": "code",
   "execution_count": 100,
   "id": "bb87e684",
   "metadata": {},
   "outputs": [
    {
     "name": "stdout",
     "output_type": "stream",
     "text": [
      "Dataset final: (17763486, 7)\n"
     ]
    },
    {
     "data": {
      "text/html": [
       "<div>\n",
       "<style scoped>\n",
       "    .dataframe tbody tr th:only-of-type {\n",
       "        vertical-align: middle;\n",
       "    }\n",
       "\n",
       "    .dataframe tbody tr th {\n",
       "        vertical-align: top;\n",
       "    }\n",
       "\n",
       "    .dataframe thead th {\n",
       "        text-align: right;\n",
       "    }\n",
       "</style>\n",
       "<table border=\"1\" class=\"dataframe\">\n",
       "  <thead>\n",
       "    <tr style=\"text-align: right;\">\n",
       "      <th></th>\n",
       "      <th>CreationDate</th>\n",
       "      <th>ClosedDate</th>\n",
       "      <th>DeletionDate</th>\n",
       "      <th>Score</th>\n",
       "      <th>OwnerUserId</th>\n",
       "      <th>AnswerCount</th>\n",
       "      <th>Tag</th>\n",
       "    </tr>\n",
       "  </thead>\n",
       "  <tbody>\n",
       "    <tr>\n",
       "      <th>0</th>\n",
       "      <td>2008-07-31T21:26:37Z</td>\n",
       "      <td>NaN</td>\n",
       "      <td>2011-03-28T00:53:47Z</td>\n",
       "      <td>1</td>\n",
       "      <td>NaN</td>\n",
       "      <td>0.0</td>\n",
       "      <td>[data]</td>\n",
       "    </tr>\n",
       "    <tr>\n",
       "      <th>1</th>\n",
       "      <td>2008-07-31T21:42:52Z</td>\n",
       "      <td>NaN</td>\n",
       "      <td>NaN</td>\n",
       "      <td>472</td>\n",
       "      <td>8.0</td>\n",
       "      <td>13.0</td>\n",
       "      <td>[c#, winforms, type-conversion, decimal, opacity]</td>\n",
       "    </tr>\n",
       "    <tr>\n",
       "      <th>2</th>\n",
       "      <td>2008-07-31T22:08:08Z</td>\n",
       "      <td>NaN</td>\n",
       "      <td>NaN</td>\n",
       "      <td>210</td>\n",
       "      <td>9.0</td>\n",
       "      <td>5.0</td>\n",
       "      <td>[html, css, css3, internet-explorer-7]</td>\n",
       "    </tr>\n",
       "    <tr>\n",
       "      <th>3</th>\n",
       "      <td>2008-07-31T23:33:19Z</td>\n",
       "      <td>2013-06-03T04:00:25Z</td>\n",
       "      <td>2015-02-11T08:26:40Z</td>\n",
       "      <td>42</td>\n",
       "      <td>NaN</td>\n",
       "      <td>8.0</td>\n",
       "      <td>[c#, code-generation, j#, visualj#]</td>\n",
       "    </tr>\n",
       "    <tr>\n",
       "      <th>4</th>\n",
       "      <td>2008-07-31T23:40:59Z</td>\n",
       "      <td>NaN</td>\n",
       "      <td>NaN</td>\n",
       "      <td>1452</td>\n",
       "      <td>1.0</td>\n",
       "      <td>58.0</td>\n",
       "      <td>[c#, .net, datetime]</td>\n",
       "    </tr>\n",
       "  </tbody>\n",
       "</table>\n",
       "</div>"
      ],
      "text/plain": [
       "           CreationDate            ClosedDate          DeletionDate  Score  \\\n",
       "0  2008-07-31T21:26:37Z                   NaN  2011-03-28T00:53:47Z      1   \n",
       "1  2008-07-31T21:42:52Z                   NaN                   NaN    472   \n",
       "2  2008-07-31T22:08:08Z                   NaN                   NaN    210   \n",
       "3  2008-07-31T23:33:19Z  2013-06-03T04:00:25Z  2015-02-11T08:26:40Z     42   \n",
       "4  2008-07-31T23:40:59Z                   NaN                   NaN   1452   \n",
       "\n",
       "   OwnerUserId  AnswerCount                                                Tag  \n",
       "0          NaN          0.0                                             [data]  \n",
       "1          8.0         13.0  [c#, winforms, type-conversion, decimal, opacity]  \n",
       "2          9.0          5.0             [html, css, css3, internet-explorer-7]  \n",
       "3          NaN          8.0                [c#, code-generation, j#, visualj#]  \n",
       "4          1.0         58.0                               [c#, .net, datetime]  "
      ]
     },
     "execution_count": 100,
     "metadata": {},
     "output_type": "execute_result"
    }
   ],
   "source": [
    "# Para uma limpeza visual no dataset vamos remover a coluna ID \n",
    "df = df.drop(\"Id\",axis=1)\n",
    "\n",
    "# Verificar resultado\n",
    "print(f\"Dataset final: {df.shape}\")\n",
    "df.head()"
   ]
  },
  {
   "cell_type": "markdown",
   "id": "b114fa03",
   "metadata": {},
   "source": [
    "Com isso vamos utilizar este dataframe para realizar uma predição com uma frase de texto bruta e acimiliar o tipo de conteudo que estou relatando"
   ]
  },
  {
   "cell_type": "markdown",
   "id": "d41957ee",
   "metadata": {},
   "source": [
    "## Treinamento de Modelo\n",
    "\n",
    "Vamos inicialmente ajustar o nosso treinamento do modelo para que com uma frase de entrada o nosso modelo consiga captar "
   ]
  },
  {
   "cell_type": "code",
   "execution_count": 101,
   "id": "1146a3c8",
   "metadata": {},
   "outputs": [
    {
     "name": "stdout",
     "output_type": "stream",
     "text": [
      "Base de Treinamento: (3552697, 6)\n",
      "Base de Teste: (14210789, 6)\n"
     ]
    }
   ],
   "source": [
    "# Separar coluna alvo para as de treino \n",
    "\n",
    "features = [\"CreationDate\",\t\"ClosedDate\",\"DeletionDate\"\t,\"Score\"\t,\"OwnerUserId\"\t,\"AnswerCount\"]\n",
    "\n",
    "X = df[features]\n",
    "y=df['Tag']\n",
    "\n",
    "# Divide os dados em conjunto de treinamento e teste (70% teste)\n",
    "X_train, X_test, y_train, y_test = train_test_split(\n",
    "    X, y, test_size=0.8, random_state=42,\n",
    ")\n",
    "\n",
    "print(f'Base de Treinamento: {X_train.shape}')\n",
    "print(f'Base de Teste: {X_test.shape}')\n"
   ]
  }
 ],
 "metadata": {
  "kernelspec": {
   "display_name": ".venv",
   "language": "python",
   "name": "python3"
  },
  "language_info": {
   "codemirror_mode": {
    "name": "ipython",
    "version": 3
   },
   "file_extension": ".py",
   "mimetype": "text/x-python",
   "name": "python",
   "nbconvert_exporter": "python",
   "pygments_lexer": "ipython3",
   "version": "3.11.9"
  }
 },
 "nbformat": 4,
 "nbformat_minor": 5
}
